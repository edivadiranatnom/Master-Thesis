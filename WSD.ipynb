{
 "cells": [
  {
   "cell_type": "markdown",
   "metadata": {
    "heading_collapsed": true
   },
   "source": [
    "### Import"
   ]
  },
  {
   "cell_type": "code",
   "execution_count": 1,
   "metadata": {
    "hidden": true
   },
   "outputs": [],
   "source": [
    "import json, unicodedata, re, pickle, torch\n",
    "import numpy as np\n",
    "from nltk.stem import PorterStemmer\n",
    "from bert_embedding import BertEmbedding\n",
    "import logging\n",
    "logging.basicConfig(level=logging.INFO)\n",
    "import copy"
   ]
  },
  {
   "cell_type": "markdown",
   "metadata": {
    "heading_collapsed": true
   },
   "source": [
    "### Utils"
   ]
  },
  {
   "cell_type": "code",
   "execution_count": 2,
   "metadata": {
    "hidden": true
   },
   "outputs": [],
   "source": [
    "def unicode_to_ascii(s):\n",
    "    return ''.join(c for c in unicodedata.normalize('NFD', s)\n",
    "        if unicodedata.category(c) != 'Mn')\n",
    "\n",
    "def preproc(w):\n",
    "    w = unicode_to_ascii(w.strip())\n",
    "    w = re.sub(r\"([?.!,¿])\", r\" \\1 \", w)\n",
    "    w = re.sub(r'[\" \"]+', \" \", w)\n",
    "    w = re.sub(r\"[^a-zA-Z?.!,¿]+\", \" \", w)\n",
    "    w = w.rstrip().strip().lower()\n",
    "    return w"
   ]
  },
  {
   "cell_type": "code",
   "execution_count": 3,
   "metadata": {
    "hidden": true
   },
   "outputs": [],
   "source": [
    "js = json.load(open('train_test_disambiguated.json'))\n",
    "concepts  = [i.get('concept_set') for i in js]\n",
    "sentences = [i.get('sentence') for i in js]\n",
    "entities  = [i.get('entities') for i in js]"
   ]
  },
  {
   "cell_type": "markdown",
   "metadata": {
    "heading_collapsed": true
   },
   "source": [
    "### Disambiguate sentences"
   ]
  },
  {
   "cell_type": "code",
   "execution_count": 4,
   "metadata": {
    "hidden": true
   },
   "outputs": [],
   "source": [
    "complete_sent = []\n",
    "senses_set = set()\n",
    "\n",
    "for sen, ent in zip(sentences, entities):\n",
    "    d = {'raw': sen, 'disambiguated':'', 'entities':[]}\n",
    "    sent = preproc(sen).split(' ')\n",
    "    for e in ent:\n",
    "        txt, ID = e.get('text'), e.get('babelSynsetID')\n",
    "        if re.match(\"bn:[0-9]{8}n\", ID): #only nominal synsets\n",
    "            senses_set.add(ID)\n",
    "            ID = ID[3:-1] #remove bn: prefix and n suffix\n",
    "            d['entities'].append({\"entity\":txt, \"synset\": 'bn:'+ID+'n'})\n",
    "            for i,w in enumerate(sent): \n",
    "                if w == txt.lower():\n",
    "                    sent[i] = ID\n",
    "    d['disambiguated'] = ' '.join(sent)\n",
    "    complete_sent.append(d)\n",
    "\n",
    "# with open('dis_sent.json', 'w') as j:\n",
    "#     json.dump(complete_sent, j)\n",
    "#     j.close()\n",
    "\n",
    "# j = json.load(open('dis_sent.json')); j[:10]"
   ]
  },
  {
   "cell_type": "markdown",
   "metadata": {
    "heading_collapsed": true
   },
   "source": [
    "### Disambiguate concepts"
   ]
  },
  {
   "cell_type": "code",
   "execution_count": 5,
   "metadata": {
    "hidden": true
   },
   "outputs": [],
   "source": [
    "complete_conc = []\n",
    "ps = PorterStemmer()\n",
    "\n",
    "for con, ent in zip(concepts, entities):\n",
    "    d = {'raw': con, 'disambiguated':'', 'entities':[]}\n",
    "    conc = preproc(con).split(' ')\n",
    "    for e in ent:\n",
    "        txt, ID = e.get('text'), e.get('babelSynsetID')\n",
    "        if re.match(\"bn:[0-9]{8}n\", ID): #only nominal synsets\n",
    "            senses_set.add(ID)\n",
    "            ID = ID[3:-1] #remove bn: prefix and n suffix\n",
    "            d['entities'].append({\"entity\":txt, \"synset\": 'bn:'+ID+'n'})\n",
    "            for i,w in enumerate(conc):\n",
    "                if ps.stem(w) == ps.stem(txt.lower()):\n",
    "                    conc[i] = ID\n",
    "    d['disambiguated'] = ' '.join(conc)\n",
    "    complete_conc.append(d)\n",
    "\n",
    "# with open('dis_conc.json', 'w') as j:\n",
    "#     json.dump(complete_conc, j)\n",
    "#     j.close()\n",
    "\n",
    "# j = json.load(open('dis_conc.json')); j[:10]"
   ]
  },
  {
   "cell_type": "markdown",
   "metadata": {
    "heading_collapsed": true
   },
   "source": [
    "### Write to txt files"
   ]
  },
  {
   "cell_type": "code",
   "execution_count": 6,
   "metadata": {
    "hidden": true
   },
   "outputs": [],
   "source": [
    "# with open('concepts_wsd.txt', 'a') as f1, open('sentences_wsd.txt', 'a') as f2:\n",
    "#     for i,j in zip(complete_con, complete_sent): \n",
    "#         f1.write(i.get('disambiguated')+'\\n')\n",
    "#         f2.write(j.get('disambiguated')+'\\n')\n",
    "#     f1.close()\n",
    "#     f2.close()"
   ]
  },
  {
   "cell_type": "markdown",
   "metadata": {
    "heading_collapsed": true
   },
   "source": [
    "### JSON with c,s,f"
   ]
  },
  {
   "cell_type": "code",
   "execution_count": 7,
   "metadata": {
    "hidden": true
   },
   "outputs": [],
   "source": [
    "csf_wsd = []\n",
    "for c,s,f in zip(complete_conc, complete_sent, js):\n",
    "    csf_wsd.append({\n",
    "        'concept_set': c.get('disambiguated'),\n",
    "        'sentence': s.get('disambiguated'),\n",
    "        'frame': f.get('frame')\n",
    "    })\n",
    "\n",
    "# with open('csf_wsd.json', 'w') as j:\n",
    "#     json.dump(csf_wsd, j)\n",
    "#     j.close()"
   ]
  },
  {
   "cell_type": "markdown",
   "metadata": {
    "heading_collapsed": true
   },
   "source": [
    "### Create words not disambiguated vocabulary"
   ]
  },
  {
   "cell_type": "code",
   "execution_count": 8,
   "metadata": {
    "hidden": true
   },
   "outputs": [],
   "source": [
    "words_set = set()\n",
    "for i in complete_sent:\n",
    "    s = i.get('disambiguated').split(' ')\n",
    "    for w in s:\n",
    "        if not re.match(r'[0-9]{8}', w):\n",
    "            words_set.add(w)\n",
    "\n",
    "for i in complete_conc:\n",
    "    c = i.get('disambiguated').split(' ')\n",
    "    for w in c:\n",
    "        if not re.match(r'[0-9]{8}', w):\n",
    "            words_set.add(w)"
   ]
  },
  {
   "cell_type": "markdown",
   "metadata": {
    "heading_collapsed": true
   },
   "source": [
    "### Create complete vocab and check overlapping"
   ]
  },
  {
   "cell_type": "code",
   "execution_count": 9,
   "metadata": {
    "hidden": true
   },
   "outputs": [
    {
     "data": {
      "text/plain": [
       "(6350, 4756, 11106)"
      ]
     },
     "execution_count": 9,
     "metadata": {},
     "output_type": "execute_result"
    }
   ],
   "source": [
    "complete_vocab = set()\n",
    "for el in senses_set:\n",
    "    complete_vocab.add(el)\n",
    "for el in words_set:\n",
    "    complete_vocab.add(el)\n",
    "    \n",
    "### no overlapping if passes\n",
    "assert len(complete_vocab) == len(senses_set) + len(words_set)\n",
    "\n",
    "len(senses_set), len(words_set), len(complete_vocab)"
   ]
  },
  {
   "cell_type": "markdown",
   "metadata": {
    "heading_collapsed": true
   },
   "source": [
    "### Write vocabularies to txt"
   ]
  },
  {
   "cell_type": "code",
   "execution_count": 10,
   "metadata": {
    "hidden": true
   },
   "outputs": [],
   "source": [
    "# with open('vocab/vocab_senses.txt', 'a') as fp:\n",
    "#     for c in list(concept_set):\n",
    "#         fp.write(c[3:-1]+'\\n')\n",
    "#     fp.close()\n",
    "\n",
    "# with open('vocab/vocab_words.txt', 'a') as fp:\n",
    "#     for w in list(words_set):\n",
    "#         fp.write(w+'\\n')\n",
    "#     fp.close()\n",
    "\n",
    "# with open('vocab/vocabulary.txt', 'a') as fp:\n",
    "#     for w in list(complete):\n",
    "#         if re.match(r'bn:[0-9]{8}n', w):\n",
    "#             w = w[3:-1]\n",
    "#         fp.write(w+'\\n')\n",
    "#     fp.close()"
   ]
  },
  {
   "cell_type": "markdown",
   "metadata": {
    "heading_collapsed": true
   },
   "source": [
    "# Create embedding matrix"
   ]
  },
  {
   "cell_type": "code",
   "execution_count": 11,
   "metadata": {
    "hidden": true
   },
   "outputs": [],
   "source": [
    "sensembert = pickle.load(open('sensembert/sensembert_EN.p', 'rb'))\n",
    "bn_wn_map = pickle.load(open('bn_wn_map.p', 'rb'))"
   ]
  },
  {
   "cell_type": "markdown",
   "metadata": {
    "hidden": true
   },
   "source": [
    "### Sense embeddings"
   ]
  },
  {
   "cell_type": "code",
   "execution_count": 12,
   "metadata": {
    "hidden": true
   },
   "outputs": [
    {
     "name": "stdout",
     "output_type": "stream",
     "text": [
      "4911 6350\n",
      "4911 6350\n"
     ]
    }
   ],
   "source": [
    "sense_embeddings = {}\n",
    "\n",
    "for sense in senses_set:\n",
    "    if sense[3:] in bn_wn_map:\n",
    "        key = bn_wn_map[sense[3:]][0]\n",
    "        emb = sensembert.get(bn_wn_map[sense[3:]][0])\n",
    "        sense_embeddings[sense[3:-1]] = emb\n",
    "\n",
    "print(len(sense_embeddings), len (senses_set))\n",
    "# pickle.dump(sense_embeddings, open('embeddings/sense_embeddings.p', 'wb'))\n",
    "sense_embeddings = pickle.load(open('embeddings/sense_embeddings.p', 'rb'))\n",
    "print(len(sense_embeddings), len (senses_set))"
   ]
  },
  {
   "cell_type": "markdown",
   "metadata": {
    "hidden": true
   },
   "source": [
    "### Word embeddings"
   ]
  },
  {
   "cell_type": "code",
   "execution_count": 13,
   "metadata": {
    "hidden": true
   },
   "outputs": [],
   "source": [
    "# bert_embedding = BertEmbedding(model='bert_24_1024_16', dataset_name='book_corpus_wiki_en_cased')\n",
    "# print('BERT Large loaded\\n')\n",
    "# print('Starting inference phase...\\n')\n",
    "# word_embeddings = bert_embedding(list(words_set))\n",
    "# assert len(word_embeddings) == len(words_set)\n",
    "# print('End of inference phase and dump of the generated embeddings\\n')\n",
    "# pickle.dump(word_embeddings, open('embeddings/word_embeddings_1024.p', 'wb'))\n",
    "# word_embeddings = pickle.load(open('embeddings/word_embeddings_1024.p', 'rb'))\n",
    "# print('Concat phase to get (2048,) embeddings\\n')\n",
    "# x = [arr[0][0] for arr in word_embeddings]\n",
    "# y = [np.squeeze(np.concatenate((arr[1], arr[1]), axis=1)) for arr in word_embeddings]\n",
    "# assert len(x) == len(y)\n",
    "# word_embeddings = {i: j for i,j in zip(x,y)}\n",
    "# pickle.dump(word_embeddings, open('embeddings/word_embeddings_2048.p', 'wb'))\n",
    "word_embeddings = pickle.load(open('embeddings/word_embeddings_2048.p', 'rb'))"
   ]
  },
  {
   "cell_type": "code",
   "execution_count": 17,
   "metadata": {
    "hidden": true
   },
   "outputs": [
    {
     "data": {
      "text/plain": [
       "(9667, 11106)"
      ]
     },
     "execution_count": 17,
     "metadata": {},
     "output_type": "execute_result"
    }
   ],
   "source": [
    "# complete_embed = {}\n",
    "# complete_embed.update(word_embeddings)\n",
    "# complete_embed.update(sense_embeddings)\n",
    "# pickle.dump(complete_embed, open('embeddings/complete_2048.p', 'wb'))\n",
    "complete_embed = pickle.load(open('embeddings/complete_embeddings_2048.p','rb'))\n",
    "len(complete_embed), len(complete_vocab)"
   ]
  },
  {
   "cell_type": "markdown",
   "metadata": {},
   "source": [
    "# Add frame to raw dataset"
   ]
  },
  {
   "cell_type": "code",
   "execution_count": null,
   "metadata": {},
   "outputs": [],
   "source": []
  }
 ],
 "metadata": {
  "kernelspec": {
   "display_name": "Python 3",
   "language": "python",
   "name": "python3"
  },
  "language_info": {
   "codemirror_mode": {
    "name": "ipython",
    "version": 3
   },
   "file_extension": ".py",
   "mimetype": "text/x-python",
   "name": "python",
   "nbconvert_exporter": "python",
   "pygments_lexer": "ipython3",
   "version": "3.6.7"
  }
 },
 "nbformat": 4,
 "nbformat_minor": 2
}
